{
 "cells": [
  {
   "cell_type": "markdown",
   "metadata": {},
   "source": [
    "This Car-Counter program detects vehicles passing through a road and takes count of each behicle detected.\n",
    "\n",
    "* The YOLOv8 model is used for detection. The sort package is used for tracking.\n",
    "* A mask image is created using Canva to eliminate unwanted areas.\n",
    "* The program detects only cars, buses, trucks, and motorcycles from the video.\n",
    "* A line is drawn across the most optimal region where all the detections are most accurate. And the tracker counts the vehicles intersecting through this line which gives the number of vehicles passed."
   ]
  },
  {
   "cell_type": "code",
   "execution_count": null,
   "metadata": {},
   "outputs": [],
   "source": [
    "import cv2\n",
    "import math\n",
    "import cvzone \n",
    "from ultralytics import YOLO  "
   ]
  },
  {
   "cell_type": "markdown",
   "metadata": {},
   "source": [
    "To track the number of cars download the sort.py file by abewley from [GitHub](https://github.com/abewley/sort/blob/master/sort.py)."
   ]
  },
  {
   "cell_type": "code",
   "execution_count": null,
   "metadata": {},
   "outputs": [],
   "source": [
    "from sort import *                                 "
   ]
  },
  {
   "cell_type": "markdown",
   "metadata": {},
   "source": [
    "Load the video file"
   ]
  },
  {
   "cell_type": "code",
   "execution_count": null,
   "metadata": {},
   "outputs": [],
   "source": [
    "cap = cv2.VideoCapture('OD_Assets/cars.mp4')                          "
   ]
  },
  {
   "cell_type": "markdown",
   "metadata": {},
   "source": [
    "Load the Model\n",
    "\n",
    "[No need to pre-download the yolo weights. Just state the weights needed and it will download by itself before processing further.]"
   ]
  },
  {
   "cell_type": "code",
   "execution_count": null,
   "metadata": {},
   "outputs": [],
   "source": [
    "# YOLO Model\n",
    "model = YOLO('YOLO_Weights/yolov8n.pt') "
   ]
  },
  {
   "cell_type": "code",
   "execution_count": null,
   "metadata": {},
   "outputs": [],
   "source": [
    "# list of class names\n",
    "\n",
    "classNames = [\n",
    "    \"person\", \"bicycle\", \"car\", \"motorcycle\", \"airplane\", \"bus\", \"train\", \"truck\", \n",
    "    \"boat\", \"traffic light\", \"fire hydrant\", \"stop sign\", \"parking meter\", \"bench\", \n",
    "    \"bird\", \"cat\", \"dog\", \"horse\", \"sheep\", \"cow\", \"elephant\", \"bear\", \"zebra\", \"giraffe\", \"backpack\", \"umbrella\", \"handbag\", \"tie\", \"suitcase\", \"frisbee\",\n",
    "    \"skis\", \"snowboard\", \"sports ball\", \"kite\", \"baseball bat\", \"baseball glove\",\n",
    "    \"skateboard\", \"surfboard\", \"tennis racket\", \"bottle\", \"wine glass\", \"cup\",\n",
    "    \"fork\", \"knife\", \"spoon\", \"bowl\", \"banana\", \"apple\", \"sandwich\", \"orange\",\n",
    "    \"broccoli\", \"carrot\", \"hot dog\", \"pizza\", \"donut\", \"cake\", \"chair\", \"couch\",\n",
    "    \"potted plant\", \"bed\", \"dining table\", \"toilet\", \"TV\", \"laptop\", \"mouse\",\n",
    "    \"remote\", \"keyboard\", \"cell phone\", \"microwave\", \"oven\", \"toaster\", \"sink\",\n",
    "    \"refrigerator\", \"book\", \"clock\", \"vase\", \"scissors\", \"teddy bear\", \"hair drier\",\n",
    "    \"toothbrush\"\n",
    "]"
   ]
  },
  {
   "cell_type": "markdown",
   "metadata": {},
   "source": [
    "Since there're lot of regions in the area that are not to be detected and/or where desired object can not be detected.\n",
    "Thus create a mask image that will hide all the undesired regions and will only keep the optimal required region and pass it for the detection."
   ]
  },
  {
   "cell_type": "code",
   "execution_count": null,
   "metadata": {},
   "outputs": [],
   "source": [
    "mask = cv2.imread('OD_Assets/cars_mask.png')                 "
   ]
  },
  {
   "cell_type": "markdown",
   "metadata": {},
   "source": [
    "Load the tracker"
   ]
  },
  {
   "cell_type": "code",
   "execution_count": null,
   "metadata": {},
   "outputs": [],
   "source": [
    "tracker = Sort(max_age=20, min_hits=3, iou_threshold=0.3)"
   ]
  },
  {
   "cell_type": "markdown",
   "metadata": {},
   "source": [
    "Specify the crossing line coordinates"
   ]
  },
  {
   "cell_type": "code",
   "execution_count": null,
   "metadata": {},
   "outputs": [],
   "source": [
    "lim = [80, 550, 1250, 550]"
   ]
  },
  {
   "cell_type": "markdown",
   "metadata": {},
   "source": [
    "Create a list for the total number of cars count\n",
    " \n",
    "A count list is created instead of a variable because upon just using a count var it coinsiders a region and if a point comes between that region it increases count value, now there can be a single car's center point in that region multiple times and the count value will increase each time that point is detected.\n",
    "A list resolves this and checks whether a car with some id has crossed or not and stores its id if it did, the length of the list will give the number of cars that passed."
   ]
  },
  {
   "cell_type": "code",
   "execution_count": null,
   "metadata": {},
   "outputs": [],
   "source": [
    "total_count = []"
   ]
  },
  {
   "cell_type": "markdown",
   "metadata": {},
   "source": [
    "Read video frames and carry out detection"
   ]
  },
  {
   "cell_type": "code",
   "execution_count": null,
   "metadata": {},
   "outputs": [],
   "source": [
    "while True :\n",
    "    success, img = cap.read()\n",
    "    \n",
    "    if not success:\n",
    "        print(\"Video finished or cannot load frame.\")\n",
    "        break                                                    # exit if there is no frame to read, i.e, the video ends\n",
    "\n",
    "\n",
    "    img = cv2.resize(img, (1280, 720))                           # resize the video file (if needed)\n",
    "    mask = cv2.resize(mask, (1280, 720))                         # resize the mask image (if video file is resized)\n",
    "\n",
    "    img_region = cv2.bitwise_and(img, mask)\n",
    "    \n",
    "\n",
    "    # YOLO object detection\n",
    "    results = model(img_region, stream=True)                     # stream=True use generators which is more efficient \n",
    "\n",
    "\n",
    "    detections = np.empty((0,5))\n",
    "\n",
    "\n",
    "    for result in results :\n",
    "        boxes = result.boxes\n",
    "\n",
    "        for box in boxes :\n",
    "            # BOUNDING BOX\n",
    "            x1, y1, x2, y2 = box.xyxy[0]\n",
    "            x1, y1, x2, y2 = int(x1), int(y1), int(x2), int(y2)\n",
    "            w, h = x2-x1, y2-y1\n",
    "            \n",
    "\n",
    "            # finding confidence\n",
    "            conf = math.ceil((box.conf[0]*100))/100\n",
    "\n",
    "\n",
    "            # class label\n",
    "            cls = int(box.cls[0])\n",
    "\n",
    "            original_class = classNames[cls]\n",
    "\n",
    "\n",
    "            # displaying confidence and class name\n",
    "            \n",
    "            # only display class or category label if the object detected is a car/truck/bus/bike and have confidence greater than 40%\n",
    "\n",
    "            if original_class in {'car', 'bus', 'truck', 'motorcycle'} and conf > 0.4:                # can just use cars to count and detect cars only\n",
    "                #cvzone.putTextRect(img, f'{original_class} {conf}', (max(0, x1), max(35, y1)), scale=0.75, thickness=2, offset =4)\n",
    "                #cvzone.cornerRect(img, (x1, y1, w, h), l=6, rt=4)\n",
    "                \n",
    "                currentArr = np.array([x1, y1, x2, y2, conf])\n",
    "                detections = np.vstack((detections, currentArr))\n",
    "\n",
    "\n",
    "    # update tracker\n",
    "    track_results = tracker.update(detections)\n",
    "\n",
    "\n",
    "    # draw the crossing line\n",
    "    cv2.line(img, (lim[0], lim[1]), (lim[2], lim[3]), (0, 0, 255), 5)\n",
    "\n",
    "\n",
    "    for result in track_results :\n",
    "        x1, y1, x2, y2, Id = result\n",
    "        x1, y1, x2, y2 = int(x1), int(y1), int(x2), int(y2)\n",
    "        print(result)                                                             # not needed , skippable\n",
    "\n",
    "        w, h = x2-x1, y2-y1\n",
    "\n",
    "        # drawing bbox and id\n",
    "        cvzone.cornerRect(img, (x1, y1, w, h), l=6, rt=4, colorR=(255, 0, 0))\n",
    "        cvzone.putTextRect(img, f'{int(Id)}', (max(0, x1), max(35, y1)), scale=1, thickness=2, offset =4)\n",
    "\n",
    "\n",
    "        # to count the number, check whether the bbox center of cars intersect the red line, if they do then it will be count++\n",
    "        \n",
    "        # drawing centers of bbox\n",
    "        cx,cy = x1+w//2, y1+h//2\n",
    "        cv2.circle(img, (cx, cy), 5, (255, 0, 255), cv2.FILLED)\n",
    "\n",
    "        # determining count\n",
    "        if lim[0]<cx<lim[2] and lim[1]-15<cy<lim[3]+15 :\n",
    "            if total_count.count(Id) == 0 :                                   \n",
    "                total_count.append(Id)                                       \n",
    "                \n",
    "                # to signal a count,  this will overwrite the previous line and change of color can be seen hinting the passage of a vehicle\n",
    "                cv2.line(img, (lim[0], lim[1]), (lim[2], lim[3]), (0, 255, 0), 5)\n",
    "\n",
    "\n",
    "    # display count\n",
    "    cvzone.putTextRect(img, f'Count: {len(total_count)}', (50, 50), colorR=(0, 0, 0))\n",
    "    \n",
    "    # display video frame\n",
    "    cv2.imshow(\"Image\", img)\n",
    "     \n",
    "    #cv2.imshow(\"Image Region\", img_region)                 # the mask image overlapped with video frame           \n",
    "    \n",
    "    #cv2.waitKey(0)                                         # the video will go forward only if a key is pressed\n",
    "\n",
    "    # break the loop if 'x' key is pressed\n",
    "    if cv2.waitKey(1) & 0xFF == ord('x') :\n",
    "        break"
   ]
  },
  {
   "cell_type": "markdown",
   "metadata": {},
   "source": [
    "Print the total count upon exit"
   ]
  },
  {
   "cell_type": "code",
   "execution_count": null,
   "metadata": {},
   "outputs": [],
   "source": [
    "print(f\"Total number of vehicles that crossed the line: {len(total_count)}\")"
   ]
  }
 ],
 "metadata": {
  "kernelspec": {
   "display_name": "Python 3",
   "language": "python",
   "name": "python3"
  },
  "language_info": {
   "name": "python",
   "version": "3.11.9"
  }
 },
 "nbformat": 4,
 "nbformat_minor": 2
}
